{
 "cells": [
  {
   "cell_type": "markdown",
   "metadata": {},
   "source": [
    "# Statistics Problem"
   ]
  },
  {
   "cell_type": "markdown",
   "metadata": {},
   "source": [
    "1 . For a given Mean 494  and standard deviation = 100                                                                       \n",
    "-What is the probability of obtaining a score more than 700."
   ]
  },
  {
   "cell_type": "code",
   "execution_count": 1,
   "metadata": {
    "scrolled": true
   },
   "outputs": [],
   "source": [
    "import scipy.stats as st"
   ]
  },
  {
   "cell_type": "code",
   "execution_count": 3,
   "metadata": {
    "scrolled": true
   },
   "outputs": [
    {
     "data": {
      "text/plain": [
       "0.019699270409376912"
      ]
     },
     "execution_count": 3,
     "metadata": {},
     "output_type": "execute_result"
    }
   ],
   "source": [
    "#Probability always lies between 0 - 1\n",
    "mu = 494\n",
    "std = 100\n",
    "x = 700\n",
    "####### python formula\n",
    "1-st.norm.cdf(x,loc=mu,scale=std)"
   ]
  },
  {
   "cell_type": "code",
   "execution_count": null,
   "metadata": {
    "scrolled": true
   },
   "outputs": [],
   "source": [
    "μx̅ = μ (Mean of sample mean = Population mean)\n",
    "σx̅ = σ/√n (Population std / sqrt of sample size)\n",
    "Where,\n",
    "μ = Population mean\n",
    "σ = Population standard deviation\n",
    "μx = Sample mean\n",
    "σx= Sample standard deviation\n",
    "n = Sample size\n",
    "x̅ = Sample mean\n",
    "\n",
    "when x is given, use cdf function to find p\n"
   ]
  },
  {
   "cell_type": "markdown",
   "metadata": {},
   "source": [
    "2. Mercury makes a 2.4 lt V-6 engine, The Laser XRi, used in speedboats. The companies engineer believe that the engine delivers an average power of 220 horsepower and that the standard deviation of power delivered is 15 horsepower. A potential buyer intends to sample 100 engines(each engine to be run a single time). What is the probability that the sample mean will be less than 217 horsepower?"
   ]
  },
  {
   "cell_type": "code",
   "execution_count": 4,
   "metadata": {
    "scrolled": true
   },
   "outputs": [],
   "source": [
    "mean = 220      \n",
    "sigma = 15      \n",
    "n = 100        \n",
    "x_bar = 217         \n",
    "#p = ?"
   ]
  },
  {
   "cell_type": "code",
   "execution_count": 5,
   "metadata": {
    "scrolled": true
   },
   "outputs": [
    {
     "data": {
      "text/plain": [
       "0.022750131948179195"
      ]
     },
     "execution_count": 5,
     "metadata": {},
     "output_type": "execute_result"
    }
   ],
   "source": [
    "import numpy as np\n",
    "st.norm.cdf(x_bar,loc=mean,scale=sigma/np.sqrt(n))\n",
    "#st.norm.cdf(x_bar,loc=mean,scale=1.5)"
   ]
  },
  {
   "cell_type": "code",
   "execution_count": null,
   "metadata": {},
   "outputs": [],
   "source": []
  }
 ],
 "metadata": {
  "hide_input": false,
  "kernelspec": {
   "display_name": "Python 3",
   "language": "python",
   "name": "python3"
  },
  "language_info": {
   "codemirror_mode": {
    "name": "ipython",
    "version": 3
   },
   "file_extension": ".py",
   "mimetype": "text/x-python",
   "name": "python",
   "nbconvert_exporter": "python",
   "pygments_lexer": "ipython3",
   "version": "3.6.5"
  }
 },
 "nbformat": 4,
 "nbformat_minor": 2
}
